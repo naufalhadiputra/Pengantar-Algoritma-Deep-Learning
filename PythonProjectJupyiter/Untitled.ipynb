{
 "cells": [
  {
   "cell_type": "code",
   "execution_count": 1,
   "metadata": {},
   "outputs": [
    {
     "data": {
      "text/plain": [
       "4"
      ]
     },
     "execution_count": 1,
     "metadata": {},
     "output_type": "execute_result"
    }
   ],
   "source": [
    "2*2"
   ]
  },
  {
   "cell_type": "code",
   "execution_count": 7,
   "metadata": {},
   "outputs": [
    {
     "name": "stdout",
     "output_type": "stream",
     "text": [
      "TIDAK LULUS\n"
     ]
    }
   ],
   "source": [
    "NILAI = 3\n",
    "if(NILAI > 7):\n",
    "    print(\"LULUS\")\n",
    "else:\n",
    "    print(\"TIDAK LULUS\")"
   ]
  },
  {
   "cell_type": "code",
   "execution_count": 9,
   "metadata": {},
   "outputs": [
    {
     "name": "stdout",
     "output_type": "stream",
     "text": [
      "Saya akan libur\n"
     ]
    }
   ],
   "source": [
    "hari_ini = \"Minggu\"\n",
    "if(hari_ini == \"Senin\"):    \n",
    "    print(\"Saya akan kuliah\")\n",
    "elif(hari_ini == \"Selasa\"):    \n",
    "    print(\"Saya akan kuliah\")\n",
    "elif(hari_ini == \"Rabu\"):    \n",
    "    print(\"Saya akan kuliah\")\n",
    "elif(hari_ini == \"Kamis\"):   \n",
    "    print(\"Saya akan kuliah\")\n",
    "elif(hari_ini == \"Jumat\"):   \n",
    "    print(\"Saya akan kuliah\")\n",
    "elif(hari_ini == \"Sabtu\"):   \n",
    "    print(\"Saya akan kuliah\")\n",
    "elif(hari_ini == \"Minggu\"):   \n",
    "    print(\"Saya akan libur\")\n"
   ]
  },
  {
   "cell_type": "code",
   "execution_count": null,
   "metadata": {},
   "outputs": [],
   "source": []
  },
  {
   "cell_type": "code",
   "execution_count": null,
   "metadata": {},
   "outputs": [],
   "source": []
  }
 ],
 "metadata": {
  "kernelspec": {
   "display_name": "Python 3",
   "language": "python",
   "name": "python3"
  },
  "language_info": {
   "codemirror_mode": {
    "name": "ipython",
    "version": 3
   },
   "file_extension": ".py",
   "mimetype": "text/x-python",
   "name": "python",
   "nbconvert_exporter": "python",
   "pygments_lexer": "ipython3",
   "version": "3.7.1"
  }
 },
 "nbformat": 4,
 "nbformat_minor": 2
}
